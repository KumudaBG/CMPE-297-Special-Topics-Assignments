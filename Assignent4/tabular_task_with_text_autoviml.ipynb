{
  "nbformat": 4,
  "nbformat_minor": 0,
  "metadata": {
    "colab": {
      "name": "tabular task with text autoviml.ipynb",
      "provenance": [],
      "authorship_tag": "ABX9TyOq6QU8Z1YU5Wee4AyGmsyZ",
      "include_colab_link": true
    },
    "kernelspec": {
      "name": "python3",
      "display_name": "Python 3"
    },
    "language_info": {
      "name": "python"
    }
  },
  "cells": [
    {
      "cell_type": "markdown",
      "metadata": {
        "id": "view-in-github",
        "colab_type": "text"
      },
      "source": [
        "<a href=\"https://colab.research.google.com/github/KumudaBG/CMPE-297-Special-Topics-Assignments/blob/main/Assignent4/tabular_task_with_text_autoviml.ipynb\" target=\"_parent\"><img src=\"https://colab.research.google.com/assets/colab-badge.svg\" alt=\"Open In Colab\"/></a>"
      ]
    },
    {
      "cell_type": "code",
      "metadata": {
        "id": "4jcCAIWMlH-E"
      },
      "source": [
        "!pip install deep_autoviml"
      ],
      "execution_count": null,
      "outputs": []
    },
    {
      "cell_type": "code",
      "metadata": {
        "colab": {
          "base_uri": "https://localhost:8080/"
        },
        "id": "_RaTZASKv57H",
        "outputId": "2206ee12-eb92-4bef-8739-86d924c7d2f5"
      },
      "source": [
        "#Import kaggle data\n",
        "kaggle_json = {\"username\":\"kumudabg\",\"key\":\"1134be2d95490124194bf94fac598ce7\"}\n",
        "\n",
        "os.makedirs('/content/.kaggle/',exist_ok=True)\n",
        "\n",
        "os.makedirs('/root/.kaggle/',exist_ok=True)\n",
        "\n",
        "with open('/content/.kaggle/kaggle.json', 'w') as file:\n",
        "  json.dump(kaggle_json, file)\n",
        "\n",
        "!cp /content/.kaggle/kaggle.json ~/.kaggle/kaggle.json\n",
        "!kaggle datasets download -d prathamtripathi/drug-classification"
      ],
      "execution_count": null,
      "outputs": [
        {
          "output_type": "stream",
          "name": "stdout",
          "text": [
            "Warning: Your Kaggle API key is readable by other users on this system! To fix this, you can run 'chmod 600 /root/.kaggle/kaggle.json'\n",
            "Downloading drug-classification.zip to /content\n",
            "  0% 0.00/1.68k [00:00<?, ?B/s]\n",
            "100% 1.68k/1.68k [00:00<00:00, 801kB/s]\n"
          ]
        }
      ]
    },
    {
      "cell_type": "code",
      "metadata": {
        "colab": {
          "base_uri": "https://localhost:8080/"
        },
        "id": "mHjx7kLKBLgL",
        "outputId": "e227f8cc-ad24-49d0-a704-53e541c3e73d"
      },
      "source": [
        "!unzip /content/drug-classification.zip"
      ],
      "execution_count": null,
      "outputs": [
        {
          "output_type": "stream",
          "name": "stdout",
          "text": [
            "Archive:  /content/drug-classification.zip\n",
            "  inflating: drug200.csv             \n"
          ]
        }
      ]
    },
    {
      "cell_type": "code",
      "metadata": {
        "id": "oo1sF-P0BelT"
      },
      "source": [
        "# use pandas numpy as usual\n",
        "import pandas as pd\n",
        "import numpy as np\n",
        "from sklearn.model_selection import train_test_split\n",
        "from deep_autoviml import deep_autoviml as deepauto"
      ],
      "execution_count": null,
      "outputs": []
    },
    {
      "cell_type": "code",
      "metadata": {
        "colab": {
          "base_uri": "https://localhost:8080/",
          "height": 80
        },
        "id": "DG7JQKiSCGHV",
        "outputId": "26ab0e91-6386-40aa-f701-f7bcb1c85f5b"
      },
      "source": [
        "data=pd.read_csv('/content/drug200.csv')\n",
        "data.head(1)"
      ],
      "execution_count": null,
      "outputs": [
        {
          "output_type": "execute_result",
          "data": {
            "text/html": [
              "<div>\n",
              "<style scoped>\n",
              "    .dataframe tbody tr th:only-of-type {\n",
              "        vertical-align: middle;\n",
              "    }\n",
              "\n",
              "    .dataframe tbody tr th {\n",
              "        vertical-align: top;\n",
              "    }\n",
              "\n",
              "    .dataframe thead th {\n",
              "        text-align: right;\n",
              "    }\n",
              "</style>\n",
              "<table border=\"1\" class=\"dataframe\">\n",
              "  <thead>\n",
              "    <tr style=\"text-align: right;\">\n",
              "      <th></th>\n",
              "      <th>Age</th>\n",
              "      <th>Sex</th>\n",
              "      <th>BP</th>\n",
              "      <th>Cholesterol</th>\n",
              "      <th>Na_to_K</th>\n",
              "      <th>Drug</th>\n",
              "    </tr>\n",
              "  </thead>\n",
              "  <tbody>\n",
              "    <tr>\n",
              "      <th>0</th>\n",
              "      <td>23</td>\n",
              "      <td>F</td>\n",
              "      <td>HIGH</td>\n",
              "      <td>HIGH</td>\n",
              "      <td>25.36</td>\n",
              "      <td>DrugY</td>\n",
              "    </tr>\n",
              "  </tbody>\n",
              "</table>\n",
              "</div>"
            ],
            "text/plain": [
              "   Age Sex    BP Cholesterol  Na_to_K   Drug\n",
              "0   23   F  HIGH        HIGH    25.36  DrugY"
            ]
          },
          "metadata": {},
          "execution_count": 23
        }
      ]
    },
    {
      "cell_type": "code",
      "metadata": {
        "id": "uxj-RPrxB96d"
      },
      "source": [
        "train_datafile = '/content/drug200.csv'\n",
        "target = 'Drug'"
      ],
      "execution_count": null,
      "outputs": []
    },
    {
      "cell_type": "code",
      "metadata": {
        "id": "9Y1TbmhcBQpR"
      },
      "source": [
        "keras_model_type = \"auto\" ## always try \"fast\" first, then \"fast1\", \"fast2\", \"auto\" in that order\n",
        "project_name = \"taxi\"\n",
        "model_options = {'nlp_char_limit':50, 'cat_feat_cross_flag':\"\",\n",
        "                 'max_trials': 5, \"tuner\": \"storm\"}\n",
        "keras_options = {\"patience\":10, 'class_weight': True, 'early_stopping': True, \n",
        "                 'lr_scheduler': '', \"optimizer\": 'RMS'}"
      ],
      "execution_count": null,
      "outputs": []
    },
    {
      "cell_type": "code",
      "metadata": {
        "id": "6W1kS5-TCZJW"
      },
      "source": [
        "model, cat_vocab_dict = deepauto.fit(, target, keras_model_type=keras_model_type,\n",
        "\t\tproject_name=project_name, keras_options=keras_options, model_options=model_options, \n",
        "\t\tsave_model_flag=False, use_my_model='', verbose=1)"
      ],
      "execution_count": null,
      "outputs": []
    },
    {
      "cell_type": "code",
      "metadata": {
        "id": "Ge14vPuRC76l"
      },
      "source": [
        "from deep_autoviml.utilities.utilities import plot_classification_results, print_regression_model_stats\n",
        "from sklearn.metrics import classification_report, confusion_matrix, balanced_accuracy_score\n",
        "#from autoviml.Auto_ViML import plot_regression_scatters\n",
        "predictions = deepauto.predict(model, project_name,test_dataset=,\n",
        "                                 keras_model_type=keras_model_type, \n",
        "                                 cat_vocab_dict=cat_vocab_dict)"
      ],
      "execution_count": null,
      "outputs": []
    },
    {
      "cell_type": "code",
      "metadata": {
        "id": "W2LUIfNKCe4a"
      },
      "source": [
        "y_preds = predictions[1]\n",
        "print(\"Predictions for first ten rows:\",y_preds[:10])"
      ],
      "execution_count": null,
      "outputs": []
    },
    {
      "cell_type": "code",
      "metadata": {
        "id": "3xvOLDQnCmH0"
      },
      "source": [
        "y_test = test[target].values\n",
        "print(\"Actual values for first ten rows: \"y_test[:10])"
      ],
      "execution_count": null,
      "outputs": []
    },
    {
      "cell_type": "code",
      "metadata": {
        "id": "OzHi64p3CasS"
      },
      "source": [
        ""
      ],
      "execution_count": null,
      "outputs": []
    }
  ]
}
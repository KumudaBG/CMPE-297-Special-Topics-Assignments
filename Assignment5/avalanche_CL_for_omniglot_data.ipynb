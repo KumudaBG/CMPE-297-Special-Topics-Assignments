{
  "nbformat": 4,
  "nbformat_minor": 0,
  "metadata": {
    "accelerator": "GPU",
    "colab": {
      "name": "avalanche CL for omniglot data.ipynb",
      "provenance": [],
      "collapsed_sections": [],
      "authorship_tag": "ABX9TyPJq3DFmMqYxpcXB/kIM7RY",
      "include_colab_link": true
    },
    "kernelspec": {
      "display_name": "Python 3",
      "name": "python3"
    },
    "language_info": {
      "name": "python"
    }
  },
  "cells": [
    {
      "cell_type": "markdown",
      "metadata": {
        "id": "view-in-github",
        "colab_type": "text"
      },
      "source": [
        "<a href=\"https://colab.research.google.com/github/KumudaBG/CMPE-297-Special-Topics-Assignments/blob/main/Assignment5/avalanche_CL_for_omniglot_data.ipynb\" target=\"_parent\"><img src=\"https://colab.research.google.com/assets/colab-badge.svg\" alt=\"Open In Colab\"/></a>"
      ]
    },
    {
      "cell_type": "code",
      "metadata": {
        "colab": {
          "base_uri": "https://localhost:8080/"
        },
        "id": "O4oNXv-WJh0G",
        "outputId": "f9faefa1-1007-4724-a526-cf854e7cdd6b"
      },
      "source": [
        " !pip install git+https://github.com/ContinualAI/avalanche.git "
      ],
      "execution_count": 1,
      "outputs": [
        {
          "output_type": "stream",
          "name": "stdout",
          "text": [
            "Collecting git+https://github.com/ContinualAI/avalanche.git\n",
            "  Cloning https://github.com/ContinualAI/avalanche.git to /tmp/pip-req-build-uee4h9_a\n",
            "  Running command git clone -q https://github.com/ContinualAI/avalanche.git /tmp/pip-req-build-uee4h9_a\n",
            "  Installing build dependencies ... \u001b[?25l\u001b[?25hdone\n",
            "  Getting requirements to build wheel ... \u001b[?25l\u001b[?25hdone\n",
            "    Preparing wheel metadata ... \u001b[?25l\u001b[?25hdone\n",
            "Requirement already satisfied: numpy in /usr/local/lib/python3.7/dist-packages (from avalanche-lib==0.0.1) (1.19.5)\n",
            "Collecting quadprog\n",
            "  Downloading quadprog-0.1.10.tar.gz (121 kB)\n",
            "\u001b[K     |████████████████████████████████| 121 kB 5.3 MB/s \n",
            "\u001b[?25h  Installing build dependencies ... \u001b[?25l\u001b[?25hdone\n",
            "  Getting requirements to build wheel ... \u001b[?25l\u001b[?25hdone\n",
            "    Preparing wheel metadata ... \u001b[?25l\u001b[?25hdone\n",
            "Requirement already satisfied: scikit-learn in /usr/local/lib/python3.7/dist-packages (from avalanche-lib==0.0.1) (0.22.2.post1)\n",
            "Collecting wandb\n",
            "  Downloading wandb-0.12.6-py2.py3-none-any.whl (1.7 MB)\n",
            "\u001b[K     |████████████████████████████████| 1.7 MB 39.9 MB/s \n",
            "\u001b[?25hRequirement already satisfied: matplotlib in /usr/local/lib/python3.7/dist-packages (from avalanche-lib==0.0.1) (3.2.2)\n",
            "Collecting gputil\n",
            "  Downloading GPUtil-1.4.0.tar.gz (5.5 kB)\n",
            "Collecting pytorchcv\n",
            "  Downloading pytorchcv-0.0.67-py2.py3-none-any.whl (532 kB)\n",
            "\u001b[K     |████████████████████████████████| 532 kB 41.8 MB/s \n",
            "\u001b[?25hRequirement already satisfied: pycocotools in /usr/local/lib/python3.7/dist-packages (from avalanche-lib==0.0.1) (2.0.2)\n",
            "Requirement already satisfied: tqdm in /usr/local/lib/python3.7/dist-packages (from avalanche-lib==0.0.1) (4.62.3)\n",
            "Requirement already satisfied: tensorboard in /usr/local/lib/python3.7/dist-packages (from avalanche-lib==0.0.1) (2.6.0)\n",
            "Requirement already satisfied: typing-extensions in /usr/local/lib/python3.7/dist-packages (from avalanche-lib==0.0.1) (3.7.4.3)\n",
            "Requirement already satisfied: psutil in /usr/local/lib/python3.7/dist-packages (from avalanche-lib==0.0.1) (5.4.8)\n",
            "Requirement already satisfied: pyparsing!=2.0.4,!=2.1.2,!=2.1.6,>=2.0.1 in /usr/local/lib/python3.7/dist-packages (from matplotlib->avalanche-lib==0.0.1) (2.4.7)\n",
            "Requirement already satisfied: python-dateutil>=2.1 in /usr/local/lib/python3.7/dist-packages (from matplotlib->avalanche-lib==0.0.1) (2.8.2)\n",
            "Requirement already satisfied: cycler>=0.10 in /usr/local/lib/python3.7/dist-packages (from matplotlib->avalanche-lib==0.0.1) (0.10.0)\n",
            "Requirement already satisfied: kiwisolver>=1.0.1 in /usr/local/lib/python3.7/dist-packages (from matplotlib->avalanche-lib==0.0.1) (1.3.2)\n",
            "Requirement already satisfied: six in /usr/local/lib/python3.7/dist-packages (from cycler>=0.10->matplotlib->avalanche-lib==0.0.1) (1.15.0)\n",
            "Requirement already satisfied: setuptools>=18.0 in /usr/local/lib/python3.7/dist-packages (from pycocotools->avalanche-lib==0.0.1) (57.4.0)\n",
            "Requirement already satisfied: cython>=0.27.3 in /usr/local/lib/python3.7/dist-packages (from pycocotools->avalanche-lib==0.0.1) (0.29.24)\n",
            "Requirement already satisfied: requests in /usr/local/lib/python3.7/dist-packages (from pytorchcv->avalanche-lib==0.0.1) (2.23.0)\n",
            "Requirement already satisfied: certifi>=2017.4.17 in /usr/local/lib/python3.7/dist-packages (from requests->pytorchcv->avalanche-lib==0.0.1) (2021.5.30)\n",
            "Requirement already satisfied: idna<3,>=2.5 in /usr/local/lib/python3.7/dist-packages (from requests->pytorchcv->avalanche-lib==0.0.1) (2.10)\n",
            "Requirement already satisfied: chardet<4,>=3.0.2 in /usr/local/lib/python3.7/dist-packages (from requests->pytorchcv->avalanche-lib==0.0.1) (3.0.4)\n",
            "Requirement already satisfied: urllib3!=1.25.0,!=1.25.1,<1.26,>=1.21.1 in /usr/local/lib/python3.7/dist-packages (from requests->pytorchcv->avalanche-lib==0.0.1) (1.24.3)\n",
            "Requirement already satisfied: joblib>=0.11 in /usr/local/lib/python3.7/dist-packages (from scikit-learn->avalanche-lib==0.0.1) (1.0.1)\n",
            "Requirement already satisfied: scipy>=0.17.0 in /usr/local/lib/python3.7/dist-packages (from scikit-learn->avalanche-lib==0.0.1) (1.4.1)\n",
            "Requirement already satisfied: google-auth-oauthlib<0.5,>=0.4.1 in /usr/local/lib/python3.7/dist-packages (from tensorboard->avalanche-lib==0.0.1) (0.4.6)\n",
            "Requirement already satisfied: protobuf>=3.6.0 in /usr/local/lib/python3.7/dist-packages (from tensorboard->avalanche-lib==0.0.1) (3.17.3)\n",
            "Requirement already satisfied: google-auth<2,>=1.6.3 in /usr/local/lib/python3.7/dist-packages (from tensorboard->avalanche-lib==0.0.1) (1.35.0)\n",
            "Requirement already satisfied: wheel>=0.26 in /usr/local/lib/python3.7/dist-packages (from tensorboard->avalanche-lib==0.0.1) (0.37.0)\n",
            "Requirement already satisfied: werkzeug>=0.11.15 in /usr/local/lib/python3.7/dist-packages (from tensorboard->avalanche-lib==0.0.1) (1.0.1)\n",
            "Requirement already satisfied: grpcio>=1.24.3 in /usr/local/lib/python3.7/dist-packages (from tensorboard->avalanche-lib==0.0.1) (1.41.0)\n",
            "Requirement already satisfied: tensorboard-plugin-wit>=1.6.0 in /usr/local/lib/python3.7/dist-packages (from tensorboard->avalanche-lib==0.0.1) (1.8.0)\n",
            "Requirement already satisfied: absl-py>=0.4 in /usr/local/lib/python3.7/dist-packages (from tensorboard->avalanche-lib==0.0.1) (0.12.0)\n",
            "Requirement already satisfied: markdown>=2.6.8 in /usr/local/lib/python3.7/dist-packages (from tensorboard->avalanche-lib==0.0.1) (3.3.4)\n",
            "Requirement already satisfied: tensorboard-data-server<0.7.0,>=0.6.0 in /usr/local/lib/python3.7/dist-packages (from tensorboard->avalanche-lib==0.0.1) (0.6.1)\n",
            "Requirement already satisfied: pyasn1-modules>=0.2.1 in /usr/local/lib/python3.7/dist-packages (from google-auth<2,>=1.6.3->tensorboard->avalanche-lib==0.0.1) (0.2.8)\n",
            "Requirement already satisfied: rsa<5,>=3.1.4 in /usr/local/lib/python3.7/dist-packages (from google-auth<2,>=1.6.3->tensorboard->avalanche-lib==0.0.1) (4.7.2)\n",
            "Requirement already satisfied: cachetools<5.0,>=2.0.0 in /usr/local/lib/python3.7/dist-packages (from google-auth<2,>=1.6.3->tensorboard->avalanche-lib==0.0.1) (4.2.4)\n",
            "Requirement already satisfied: requests-oauthlib>=0.7.0 in /usr/local/lib/python3.7/dist-packages (from google-auth-oauthlib<0.5,>=0.4.1->tensorboard->avalanche-lib==0.0.1) (1.3.0)\n",
            "Requirement already satisfied: importlib-metadata in /usr/local/lib/python3.7/dist-packages (from markdown>=2.6.8->tensorboard->avalanche-lib==0.0.1) (4.8.1)\n",
            "Requirement already satisfied: pyasn1<0.5.0,>=0.4.6 in /usr/local/lib/python3.7/dist-packages (from pyasn1-modules>=0.2.1->google-auth<2,>=1.6.3->tensorboard->avalanche-lib==0.0.1) (0.4.8)\n",
            "Requirement already satisfied: oauthlib>=3.0.0 in /usr/local/lib/python3.7/dist-packages (from requests-oauthlib>=0.7.0->google-auth-oauthlib<0.5,>=0.4.1->tensorboard->avalanche-lib==0.0.1) (3.1.1)\n",
            "Requirement already satisfied: zipp>=0.5 in /usr/local/lib/python3.7/dist-packages (from importlib-metadata->markdown>=2.6.8->tensorboard->avalanche-lib==0.0.1) (3.6.0)\n",
            "Collecting sentry-sdk>=1.0.0\n",
            "  Downloading sentry_sdk-1.4.3-py2.py3-none-any.whl (139 kB)\n",
            "\u001b[K     |████████████████████████████████| 139 kB 51.8 MB/s \n",
            "\u001b[?25hCollecting pathtools\n",
            "  Downloading pathtools-0.1.2.tar.gz (11 kB)\n",
            "Collecting shortuuid>=0.5.0\n",
            "  Downloading shortuuid-1.0.7-py3-none-any.whl (8.6 kB)\n",
            "Collecting subprocess32>=3.5.3\n",
            "  Downloading subprocess32-3.5.4.tar.gz (97 kB)\n",
            "\u001b[K     |████████████████████████████████| 97 kB 6.9 MB/s \n",
            "\u001b[?25hCollecting GitPython>=1.0.0\n",
            "  Downloading GitPython-3.1.24-py3-none-any.whl (180 kB)\n",
            "\u001b[K     |████████████████████████████████| 180 kB 48.0 MB/s \n",
            "\u001b[?25hCollecting configparser>=3.8.1\n",
            "  Downloading configparser-5.1.0-py3-none-any.whl (19 kB)\n",
            "Collecting yaspin>=1.0.0\n",
            "  Downloading yaspin-2.1.0-py3-none-any.whl (18 kB)\n",
            "Collecting docker-pycreds>=0.4.0\n",
            "  Downloading docker_pycreds-0.4.0-py2.py3-none-any.whl (9.0 kB)\n",
            "Requirement already satisfied: promise<3,>=2.0 in /usr/local/lib/python3.7/dist-packages (from wandb->avalanche-lib==0.0.1) (2.3)\n",
            "Requirement already satisfied: PyYAML in /usr/local/lib/python3.7/dist-packages (from wandb->avalanche-lib==0.0.1) (3.13)\n",
            "Requirement already satisfied: Click!=8.0.0,>=7.0 in /usr/local/lib/python3.7/dist-packages (from wandb->avalanche-lib==0.0.1) (7.1.2)\n",
            "Collecting gitdb<5,>=4.0.1\n",
            "  Downloading gitdb-4.0.9-py3-none-any.whl (63 kB)\n",
            "\u001b[K     |████████████████████████████████| 63 kB 1.8 MB/s \n",
            "\u001b[?25hCollecting smmap<6,>=3.0.1\n",
            "  Downloading smmap-5.0.0-py3-none-any.whl (24 kB)\n",
            "Requirement already satisfied: termcolor<2.0.0,>=1.1.0 in /usr/local/lib/python3.7/dist-packages (from yaspin>=1.0.0->wandb->avalanche-lib==0.0.1) (1.1.0)\n",
            "Building wheels for collected packages: avalanche-lib, gputil, quadprog, subprocess32, pathtools\n",
            "  Building wheel for avalanche-lib (PEP 517) ... \u001b[?25l\u001b[?25hdone\n",
            "  Created wheel for avalanche-lib: filename=avalanche_lib-0.0.1-py3-none-any.whl size=414160 sha256=ebf48b843fc59fe3f085435a05c3e69179909d443c98cb566e203723f129d2c6\n",
            "  Stored in directory: /tmp/pip-ephem-wheel-cache-e_jximy_/wheels/60/fb/ef/c106a98bc821c758882e32e24bb6b3ed11b691715590a071d1\n",
            "  Building wheel for gputil (setup.py) ... \u001b[?25l\u001b[?25hdone\n",
            "  Created wheel for gputil: filename=GPUtil-1.4.0-py3-none-any.whl size=7411 sha256=23b9af42a799ede6f49effd001031b6b0d95ac9ade27b26931c217d1b7416620\n",
            "  Stored in directory: /root/.cache/pip/wheels/6e/f8/83/534c52482d6da64622ddbf72cd93c35d2ef2881b78fd08ff0c\n",
            "  Building wheel for quadprog (PEP 517) ... \u001b[?25l\u001b[?25hdone\n",
            "  Created wheel for quadprog: filename=quadprog-0.1.10-cp37-cp37m-linux_x86_64.whl size=290751 sha256=32a57d26ef0d2029dd2005f8869f0f6a093e44be4df5d29d4bbced85d5953f0b\n",
            "  Stored in directory: /root/.cache/pip/wheels/e9/af/76/c5335ed32afc1284e6100b86588d1f75f5c4906fa26df6efda\n",
            "  Building wheel for subprocess32 (setup.py) ... \u001b[?25l\u001b[?25hdone\n",
            "  Created wheel for subprocess32: filename=subprocess32-3.5.4-py3-none-any.whl size=6502 sha256=e70e2c79c270e3ce72333391b0df14d598cfa4513e3ff0319829c87c9bba4a08\n",
            "  Stored in directory: /root/.cache/pip/wheels/50/ca/fa/8fca8d246e64f19488d07567547ddec8eb084e8c0d7a59226a\n",
            "  Building wheel for pathtools (setup.py) ... \u001b[?25l\u001b[?25hdone\n",
            "  Created wheel for pathtools: filename=pathtools-0.1.2-py3-none-any.whl size=8807 sha256=1c5d8633b0ca39d60314a560230d16661e600e71881bfc18a3278c01575aab50\n",
            "  Stored in directory: /root/.cache/pip/wheels/3e/31/09/fa59cef12cdcfecc627b3d24273699f390e71828921b2cbba2\n",
            "Successfully built avalanche-lib gputil quadprog subprocess32 pathtools\n",
            "Installing collected packages: smmap, gitdb, yaspin, subprocess32, shortuuid, sentry-sdk, pathtools, GitPython, docker-pycreds, configparser, wandb, quadprog, pytorchcv, gputil, avalanche-lib\n",
            "Successfully installed GitPython-3.1.24 avalanche-lib-0.0.1 configparser-5.1.0 docker-pycreds-0.4.0 gitdb-4.0.9 gputil-1.4.0 pathtools-0.1.2 pytorchcv-0.0.67 quadprog-0.1.10 sentry-sdk-1.4.3 shortuuid-1.0.7 smmap-5.0.0 subprocess32-3.5.4 wandb-0.12.6 yaspin-2.1.0\n"
          ]
        }
      ]
    },
    {
      "cell_type": "code",
      "metadata": {
        "id": "Ihjse8w5KgSm"
      },
      "source": [
        "import torch\n",
        "from torch.nn import CrossEntropyLoss\n",
        "from torch.optim import SGD\n",
        "from torchvision import transforms"
      ],
      "execution_count": 2,
      "outputs": []
    },
    {
      "cell_type": "code",
      "metadata": {
        "id": "-FSd7Y7_LhLY"
      },
      "source": [
        "from avalanche.benchmarks.classic import SplitOmniglot,PermutedOmniglot\n",
        "from avalanche.benchmarks.classic.classic_benchmarks_utils import \\\n",
        "    check_vision_benchmark\n",
        "from torchvision.transforms import ToTensor, ToPILImage, Compose, Normalize,RandomRotation\n",
        "from torch.optim import SGD\n",
        "from torch.nn import CrossEntropyLoss\n",
        "from avalanche.benchmarks.classic import SplitMNIST\n",
        "from avalanche.evaluation.metrics import forgetting_metrics, accuracy_metrics, \\\n",
        "    loss_metrics, timing_metrics, cpu_usage_metrics, confusion_matrix_metrics, disk_usage_metrics\n",
        "from avalanche.models import SimpleMLP\n",
        "from avalanche.logging import InteractiveLogger, TextLogger, TensorboardLogger\n",
        "from avalanche.training.plugins import EvaluationPlugin\n",
        "from avalanche.training.strategies import Naive"
      ],
      "execution_count": 20,
      "outputs": []
    },
    {
      "cell_type": "code",
      "metadata": {
        "id": "1LrV7DyPKlwK"
      },
      "source": [
        "# Config\n",
        "device = torch.device(\"cuda:0\" if torch.cuda.is_available() else \"cpu\")"
      ],
      "execution_count": 4,
      "outputs": []
    },
    {
      "cell_type": "code",
      "metadata": {
        "id": "R156rqGaRNr3"
      },
      "source": [
        "_default_omniglot_train_transform = Compose([\n",
        "    transforms.Resize(32),\n",
        "    transforms.Grayscale(),\n",
        "    transforms.ToTensor(),\n",
        "    transforms.Normalize((0.9221,), (0.2681,))\n",
        "])\n",
        "\n",
        "_default_omniglot_eval_transform = Compose([\n",
        "    transforms.Resize(32),\n",
        "    transforms.Grayscale(),\n",
        "    transforms.ToTensor(),\n",
        "    transforms.Normalize((0.9221,), (0.2681,))\n",
        "])\n"
      ],
      "execution_count": 55,
      "outputs": []
    },
    {
      "cell_type": "code",
      "metadata": {
        "colab": {
          "base_uri": "https://localhost:8080/",
          "height": 1000
        },
        "id": "xmAouloEMTQp",
        "outputId": "81ba4ae3-715d-4617-e026-932c9c2dd5c1"
      },
      "source": [
        "#964\n",
        "# CL Benchmark Creation\n",
        "#split_omniglot = SplitOmniglot(n_experiences=4)\n",
        "scenario = SplitOmniglot(4,train_transform=_default_omniglot_train_transform\\\n",
        "                            ,eval_transform=_default_omniglot_eval_transform)\n",
        "check_vision_benchmark(scenario)"
      ],
      "execution_count": 66,
      "outputs": [
        {
          "output_type": "stream",
          "name": "stdout",
          "text": [
            "Files already downloaded and verified\n",
            "Files already downloaded and verified\n",
            "The benchmark instance contains 4 training experiences.\n",
            "Train experience 0\n",
            "X tensor: torch.Size([300, 1, 105, 105])\n",
            "Y tensor: torch.Size([300])\n",
            "T tensor: torch.Size([300])\n"
          ]
        },
        {
          "output_type": "display_data",
          "data": {
            "image/png": "[encoded data removed]",
            "text/plain": [
              "<Figure size 432x288 with 1 Axes>"
            ]
          },
          "metadata": {
            "needs_background": "light"
          }
        },
        {
          "output_type": "stream",
          "name": "stdout",
          "text": [
            "Train experience 1\n",
            "X tensor: torch.Size([300, 1, 105, 105])\n",
            "Y tensor: torch.Size([300])\n",
            "T tensor: torch.Size([300])\n"
          ]
        },
        {
          "output_type": "display_data",
          "data": {
            "image/png": "[encoded data removed]",
            "text/plain": [
              "<Figure size 432x288 with 1 Axes>"
            ]
          },
          "metadata": {
            "needs_background": "light"
          }
        },
        {
          "output_type": "stream",
          "name": "stdout",
          "text": [
            "Train experience 2\n",
            "X tensor: torch.Size([300, 1, 105, 105])\n",
            "Y tensor: torch.Size([300])\n",
            "T tensor: torch.Size([300])\n"
          ]
        },
        {
          "output_type": "display_data",
          "data": {
            "image/png": "[encoded data removed]",
            "text/plain": [
              "<Figure size 432x288 with 1 Axes>"
            ]
          },
          "metadata": {
            "needs_background": "light"
          }
        },
        {
          "output_type": "stream",
          "name": "stdout",
          "text": [
            "Train experience 3\n",
            "X tensor: torch.Size([300, 1, 105, 105])\n",
            "Y tensor: torch.Size([300])\n",
            "T tensor: torch.Size([300])\n"
          ]
        },
        {
          "output_type": "display_data",
          "data": {
            "image/png": "[encoded data removed]",
            "text/plain": [
              "<Figure size 432x288 with 1 Axes>"
            ]
          },
          "metadata": {
            "needs_background": "light"
          }
        }
      ]
    },
    {
      "cell_type": "code",
      "metadata": {
        "id": "8JUBA0AgN1SI"
      },
      "source": [
        "train_stream=scenario.train_stream\n",
        "test_stream=scenario.test_stream"
      ],
      "execution_count": 67,
      "outputs": []
    },
    {
      "cell_type": "code",
      "metadata": {
        "id": "_ZKbwxavOVY4"
      },
      "source": [
        "# Config\n",
        "device = torch.device(\"cuda:0\" if torch.cuda.is_available() else \"cpu\")"
      ],
      "execution_count": 68,
      "outputs": []
    },
    {
      "cell_type": "code",
      "metadata": {
        "colab": {
          "base_uri": "https://localhost:8080/"
        },
        "id": "d8uGU0FZLTZ-",
        "outputId": "c0c534f6-d1dc-47db-f377-fbbc13c6ec21"
      },
      "source": [
        "print(device)\n",
        "print(scenario.n_classes)"
      ],
      "execution_count": 69,
      "outputs": [
        {
          "output_type": "stream",
          "name": "stdout",
          "text": [
            "cuda:0\n",
            "964\n"
          ]
        }
      ]
    },
    {
      "cell_type": "code",
      "metadata": {
        "id": "licTNf-AJISk"
      },
      "source": [
        "# Prepare for training & testing\n",
        "optimizer = SGD(model.parameters(), lr=0.001, momentum=0.9)\n",
        "criterion = CrossEntropyLoss()"
      ],
      "execution_count": 70,
      "outputs": []
    },
    {
      "cell_type": "code",
      "metadata": {
        "id": "e7r-w_WJT7FI"
      },
      "source": [
        "# MODEL CREATION\n",
        "model = SimpleMLP(num_classes=scenario.n_classes,input_size=1024)"
      ],
      "execution_count": 76,
      "outputs": []
    },
    {
      "cell_type": "code",
      "metadata": {
        "id": "Rl4gLJ5ZUJhj"
      },
      "source": [
        "# DEFINE THE EVALUATION PLUGIN and LOGGERS\n",
        "# The evaluation plugin manages the metrics computation.\n",
        "# It takes as argument a list of metrics, collectes their results and returns\n",
        "# them to the strategy it is attached to.\n",
        "# log to Tensorboard\n",
        "tb_logger = TensorboardLogger()"
      ],
      "execution_count": 72,
      "outputs": []
    },
    {
      "cell_type": "code",
      "metadata": {
        "id": "tU6cCPPaULKB"
      },
      "source": [
        "# log to text file\n",
        "text_logger = TextLogger(open('log.txt', 'a'))\n",
        "\n",
        "# print to stdout\n",
        "interactive_logger = InteractiveLogger()"
      ],
      "execution_count": 73,
      "outputs": []
    },
    {
      "cell_type": "code",
      "metadata": {
        "colab": {
          "base_uri": "https://localhost:8080/"
        },
        "id": "LNd3MHoOY58d",
        "outputId": "c0297fbd-841a-4897-b9d7-91d731a7bc8c"
      },
      "source": [
        "print(interactive_logger)"
      ],
      "execution_count": 79,
      "outputs": [
        {
          "output_type": "stream",
          "name": "stdout",
          "text": [
            "<avalanche.logging.interactive_logging.InteractiveLogger object at 0x7f7e0a7137d0>\n"
          ]
        }
      ]
    },
    {
      "cell_type": "code",
      "metadata": {
        "colab": {
          "base_uri": "https://localhost:8080/"
        },
        "id": "5jYUJIOyUjyw",
        "outputId": "097be60d-09d1-4272-e0d0-c6ccad4316dd"
      },
      "source": [
        "from avalanche.training.plugins import EvaluationPlugin\n",
        "eval_plugin = EvaluationPlugin(\n",
        "    accuracy_metrics(minibatch=True, epoch=True, experience=True, stream=True),\n",
        "    loss_metrics(minibatch=True, epoch=True, experience=True, stream=True),\n",
        "    timing_metrics(epoch=True, epoch_running=True),\n",
        "    forgetting_metrics(experience=True, stream=True),\n",
        "    cpu_usage_metrics(experience=True),\n",
        "    confusion_matrix_metrics(num_classes=scenario.n_classes, save_image=False,\n",
        "                             stream=True),\n",
        "    disk_usage_metrics(minibatch=True, epoch=True, experience=True, stream=True),\n",
        "    loggers=[interactive_logger, text_logger, tb_logger]\n",
        ")"
      ],
      "execution_count": 77,
      "outputs": [
        {
          "output_type": "stream",
          "name": "stderr",
          "text": [
            "/usr/local/lib/python3.7/dist-packages/avalanche/training/plugins/evaluation.py:84: UserWarning: No benchmark provided to the evaluation plugin. Metrics may be computed on inconsistent portion of streams, use at your own risk.\n",
            "  \"No benchmark provided to the evaluation plugin. \"\n"
          ]
        }
      ]
    },
    {
      "cell_type": "code",
      "metadata": {
        "colab": {
          "base_uri": "https://localhost:8080/"
        },
        "id": "Jf-cG-dtUvnJ",
        "outputId": "7d2c4b3d-03cf-4b19-dda5-a3ad4e1e8913"
      },
      "source": [
        "# CREATE THE STRATEGY INSTANCE (NAIVE)\n",
        "cl_strategy = Naive(\n",
        "    model, SGD(model.parameters(), lr=0.001, momentum=0.9),\n",
        "    CrossEntropyLoss(), train_mb_size=500, train_epochs=1, eval_mb_size=100,\n",
        "    evaluator=eval_plugin)\n",
        "\n",
        "# TRAINING LOOP\n",
        "print('Starting experiment...')\n",
        "results = []\n",
        "for experience in scenario.train_stream:\n",
        "    print(\"Start of experience: \", experience.current_experience)\n",
        "    print(\"Current Classes: \", experience.classes_in_this_experience)\n",
        "\n",
        "    # train returns a dictionary which contains all the metric values\n",
        "    res = cl_strategy.train(experience)\n",
        "    print('Training completed')\n",
        "\n",
        "    print('Computing accuracy on the whole test set')\n",
        "    # test also returns a dictionary which contains all the metric values\n",
        "    results.append(cl_strategy.eval(scenario.test_stream))"
      ],
      "execution_count": 78,
      "outputs": [
        {
          "output_type": "stream",
          "name": "stdout",
          "text": [
            "Starting experiment...\n",
            "Start of experience:  0\n",
            "Current Classes:  [2, 3, 516, 7, 519, 12, 18, 540, 31, 544, 545, 36, 38, 39, 41, 553, 44, 46, 561, 50, 51, 52, 567, 569, 58, 570, 62, 63, 578, 67, 68, 581, 582, 584, 73, 585, 78, 591, 82, 595, 84, 87, 601, 91, 603, 604, 96, 610, 611, 102, 105, 106, 618, 108, 622, 114, 626, 628, 629, 119, 631, 632, 127, 643, 645, 646, 137, 144, 656, 658, 660, 661, 151, 153, 154, 155, 156, 666, 159, 160, 671, 162, 164, 676, 681, 173, 686, 688, 690, 179, 694, 184, 700, 702, 703, 704, 707, 199, 202, 203, 717, 718, 208, 721, 722, 212, 213, 729, 731, 222, 223, 737, 228, 232, 744, 745, 237, 750, 239, 751, 241, 754, 245, 246, 757, 760, 250, 764, 766, 257, 769, 261, 773, 263, 775, 267, 275, 787, 788, 280, 793, 289, 293, 810, 299, 300, 811, 302, 303, 812, 816, 820, 821, 824, 313, 320, 832, 324, 325, 837, 328, 329, 330, 333, 848, 337, 849, 339, 343, 855, 346, 347, 858, 860, 863, 353, 354, 355, 865, 867, 869, 870, 361, 874, 366, 879, 368, 881, 882, 887, 381, 894, 383, 385, 389, 901, 394, 907, 908, 399, 402, 914, 917, 918, 920, 926, 415, 422, 425, 426, 937, 428, 429, 943, 945, 434, 948, 949, 957, 447, 453, 456, 457, 458, 459, 461, 464, 467, 478, 482, 489, 491, 493, 494, 497, 498, 500, 501, 508, 509, 510]\n",
            "-- >> Start of training phase << --\n",
            "-- Starting training on experience 0 (Task 0) from train stream --\n",
            "100%|██████████| 10/10 [02:35<00:00, 15.58s/it]\n",
            "Epoch 0 ended.\n",
            "\tDiskUsage_Epoch/train_phase/train_stream/Task000 = 55533.3633\n",
            "\tDiskUsage_MB/train_phase/train_stream/Task000 = 55533.3633\n",
            "\tLoss_Epoch/train_phase/train_stream/Task000 = 6.9007\n",
            "\tLoss_MB/train_phase/train_stream/Task000 = 6.9062\n",
            "\tRunningTime_Epoch/train_phase/train_stream/Task000 = 0.0449\n",
            "\tTime_Epoch/train_phase/train_stream/Task000 = 3.6526\n",
            "\tTop1_Acc_Epoch/train_phase/train_stream/Task000 = 0.0008\n",
            "\tTop1_Acc_MB/train_phase/train_stream/Task000 = 0.0000\n",
            "-- >> End of training phase << --\n",
            "Training completed\n",
            "Computing accuracy on the whole test set\n",
            "-- >> Start of eval phase << --\n",
            "-- Starting eval on experience 0 (Task 0) from test stream --\n",
            "100%|██████████| 33/33 [00:02<00:00, 12.88it/s]\n",
            "> Eval on experience 0 (Task 0) from test stream ended.\n",
            "\tCPUUsage_Exp/eval_phase/test_stream/Task000/Exp000 = 98.3599\n",
            "\tDiskUsage_Exp/eval_phase/test_stream/Task000/Exp000 = 55533.9482\n",
            "\tLoss_Exp/eval_phase/test_stream/Task000/Exp000 = 6.8688\n",
            "\tTop1_Acc_Exp/eval_phase/test_stream/Task000/Exp000 = 0.0009\n",
            "-- Starting eval on experience 1 (Task 0) from test stream --\n",
            "100%|██████████| 36/36 [00:02<00:00, 12.50it/s]\n",
            "> Eval on experience 1 (Task 0) from test stream ended.\n",
            "\tCPUUsage_Exp/eval_phase/test_stream/Task000/Exp001 = 99.4227\n",
            "\tDiskUsage_Exp/eval_phase/test_stream/Task000/Exp001 = 55534.3037\n",
            "\tLoss_Exp/eval_phase/test_stream/Task000/Exp001 = 6.9034\n",
            "\tTop1_Acc_Exp/eval_phase/test_stream/Task000/Exp001 = 0.0000\n",
            "-- Starting eval on experience 2 (Task 0) from test stream --\n",
            "100%|██████████| 33/33 [00:02<00:00, 12.77it/s]\n",
            "> Eval on experience 2 (Task 0) from test stream ended.\n",
            "\tCPUUsage_Exp/eval_phase/test_stream/Task000/Exp002 = 99.6581\n",
            "\tDiskUsage_Exp/eval_phase/test_stream/Task000/Exp002 = 55538.6592\n",
            "\tLoss_Exp/eval_phase/test_stream/Task000/Exp002 = 6.8906\n",
            "\tTop1_Acc_Exp/eval_phase/test_stream/Task000/Exp002 = 0.0018\n",
            "-- Starting eval on experience 3 (Task 0) from test stream --\n",
            "100%|██████████| 30/30 [00:02<00:00, 13.02it/s]\n",
            "> Eval on experience 3 (Task 0) from test stream ended.\n",
            "\tCPUUsage_Exp/eval_phase/test_stream/Task000/Exp003 = 99.3878\n",
            "\tDiskUsage_Exp/eval_phase/test_stream/Task000/Exp003 = 55539.0146\n",
            "\tLoss_Exp/eval_phase/test_stream/Task000/Exp003 = 6.9025\n",
            "\tTop1_Acc_Exp/eval_phase/test_stream/Task000/Exp003 = 0.0010\n",
            "-- >> End of eval phase << --\n",
            "\tConfusionMatrix_Stream/eval_phase/test_stream = \n",
            "tensor([[0, 0, 0,  ..., 0, 0, 0],\n",
            "        [0, 0, 0,  ..., 0, 0, 0],\n",
            "        [0, 0, 0,  ..., 0, 0, 0],\n",
            "        ...,\n",
            "        [0, 0, 0,  ..., 0, 0, 0],\n",
            "        [0, 0, 0,  ..., 0, 0, 0],\n",
            "        [0, 0, 0,  ..., 0, 0, 0]])\n",
            "\tDiskUsage_Stream/eval_phase/test_stream/Task000 = 55539.0146\n",
            "\tLoss_Stream/eval_phase/test_stream/Task000 = 6.8914\n",
            "\tStreamForgetting/eval_phase/test_stream = 0.0000\n",
            "\tTop1_Acc_Stream/eval_phase/test_stream/Task000 = 0.0009\n",
            "Start of experience:  1\n",
            "Current Classes:  [0, 1, 515, 4, 518, 8, 9, 10, 520, 525, 528, 529, 19, 531, 21, 22, 23, 532, 533, 534, 27, 535, 536, 538, 539, 40, 552, 555, 45, 557, 558, 559, 49, 564, 565, 566, 59, 571, 572, 573, 65, 579, 580, 74, 587, 76, 77, 589, 593, 88, 89, 600, 602, 95, 609, 100, 613, 615, 617, 107, 110, 112, 113, 624, 115, 625, 627, 118, 120, 121, 633, 123, 125, 126, 640, 129, 641, 642, 644, 134, 647, 648, 649, 138, 650, 654, 143, 148, 664, 673, 674, 675, 168, 685, 692, 181, 182, 695, 696, 697, 186, 699, 188, 192, 193, 705, 196, 709, 200, 713, 715, 204, 206, 207, 720, 210, 724, 217, 221, 734, 224, 226, 738, 229, 230, 231, 233, 747, 749, 242, 243, 247, 248, 252, 255, 258, 771, 260, 262, 264, 777, 778, 781, 782, 783, 277, 791, 792, 282, 283, 795, 800, 290, 806, 297, 813, 306, 818, 308, 309, 819, 825, 826, 827, 316, 830, 323, 326, 842, 331, 844, 847, 340, 344, 857, 349, 350, 862, 362, 363, 365, 877, 369, 370, 372, 373, 374, 375, 885, 377, 891, 382, 897, 898, 387, 902, 903, 906, 395, 397, 910, 401, 403, 404, 919, 408, 411, 924, 414, 927, 418, 419, 931, 421, 934, 936, 427, 939, 430, 431, 435, 442, 444, 446, 959, 449, 963, 452, 454, 455, 462, 469, 472, 479, 492, 496, 499, 502, 504, 506, 511]\n",
            "-- >> Start of training phase << --\n",
            "-- Starting training on experience 1 (Task 0) from train stream --\n",
            "100%|██████████| 10/10 [00:03<00:00,  2.78it/s]\n",
            "Epoch 0 ended.\n",
            "\tDiskUsage_Epoch/train_phase/train_stream/Task000 = 55547.9180\n",
            "\tDiskUsage_MB/train_phase/train_stream/Task000 = 55547.9180\n",
            "\tLoss_Epoch/train_phase/train_stream/Task000 = 6.9204\n",
            "\tLoss_MB/train_phase/train_stream/Task000 = 6.9257\n",
            "\tRunningTime_Epoch/train_phase/train_stream/Task000 = 0.0381\n",
            "\tTime_Epoch/train_phase/train_stream/Task000 = 3.5955\n",
            "\tTop1_Acc_Epoch/train_phase/train_stream/Task000 = 0.0006\n",
            "\tTop1_Acc_MB/train_phase/train_stream/Task000 = 0.0000\n",
            "-- >> End of training phase << --\n",
            "Training completed\n",
            "Computing accuracy on the whole test set\n",
            "-- >> Start of eval phase << --\n",
            "-- Starting eval on experience 0 (Task 0) from test stream --\n",
            "100%|██████████| 33/33 [00:02<00:00, 12.56it/s]\n",
            "> Eval on experience 0 (Task 0) from test stream ended.\n",
            "\tCPUUsage_Exp/eval_phase/test_stream/Task000/Exp000 = 99.6087\n",
            "\tDiskUsage_Exp/eval_phase/test_stream/Task000/Exp000 = 55548.5029\n",
            "\tExperienceForgetting/eval_phase/test_stream/Task000/Exp000 = 0.0000\n",
            "\tLoss_Exp/eval_phase/test_stream/Task000/Exp000 = 6.8707\n",
            "\tTop1_Acc_Exp/eval_phase/test_stream/Task000/Exp000 = 0.0009\n",
            "-- Starting eval on experience 1 (Task 0) from test stream --\n",
            "100%|██████████| 36/36 [00:02<00:00, 13.07it/s]\n",
            "> Eval on experience 1 (Task 0) from test stream ended.\n",
            "\tCPUUsage_Exp/eval_phase/test_stream/Task000/Exp001 = 100.7172\n",
            "\tDiskUsage_Exp/eval_phase/test_stream/Task000/Exp001 = 55548.9258\n",
            "\tLoss_Exp/eval_phase/test_stream/Task000/Exp001 = 6.8981\n",
            "\tTop1_Acc_Exp/eval_phase/test_stream/Task000/Exp001 = 0.0000\n",
            "-- Starting eval on experience 2 (Task 0) from test stream --\n",
            "100%|██████████| 33/33 [00:02<00:00, 12.91it/s]\n",
            "> Eval on experience 2 (Task 0) from test stream ended.\n",
            "\tCPUUsage_Exp/eval_phase/test_stream/Task000/Exp002 = 100.1894\n",
            "\tDiskUsage_Exp/eval_phase/test_stream/Task000/Exp002 = 55549.2822\n",
            "\tLoss_Exp/eval_phase/test_stream/Task000/Exp002 = 6.8922\n",
            "\tTop1_Acc_Exp/eval_phase/test_stream/Task000/Exp002 = 0.0018\n",
            "-- Starting eval on experience 3 (Task 0) from test stream --\n",
            "100%|██████████| 30/30 [00:02<00:00, 12.97it/s]\n",
            "> Eval on experience 3 (Task 0) from test stream ended.\n",
            "\tCPUUsage_Exp/eval_phase/test_stream/Task000/Exp003 = 98.1815\n",
            "\tDiskUsage_Exp/eval_phase/test_stream/Task000/Exp003 = 55549.6387\n",
            "\tLoss_Exp/eval_phase/test_stream/Task000/Exp003 = 6.9039\n",
            "\tTop1_Acc_Exp/eval_phase/test_stream/Task000/Exp003 = 0.0010\n",
            "-- >> End of eval phase << --\n",
            "\tConfusionMatrix_Stream/eval_phase/test_stream = \n",
            "tensor([[0, 0, 0,  ..., 0, 0, 0],\n",
            "        [0, 0, 0,  ..., 0, 0, 0],\n",
            "        [0, 0, 0,  ..., 0, 0, 0],\n",
            "        ...,\n",
            "        [0, 0, 0,  ..., 0, 0, 0],\n",
            "        [0, 0, 0,  ..., 0, 0, 0],\n",
            "        [0, 0, 0,  ..., 0, 0, 0]])\n",
            "\tDiskUsage_Stream/eval_phase/test_stream/Task000 = 55549.6387\n",
            "\tLoss_Stream/eval_phase/test_stream/Task000 = 6.8911\n",
            "\tStreamForgetting/eval_phase/test_stream = 0.0000\n",
            "\tTop1_Acc_Stream/eval_phase/test_stream/Task000 = 0.0009\n",
            "Start of experience:  2\n",
            "Current Classes:  [513, 514, 5, 6, 522, 11, 13, 526, 15, 16, 530, 20, 24, 25, 26, 537, 28, 30, 542, 546, 35, 551, 42, 560, 563, 53, 55, 56, 57, 60, 574, 575, 64, 66, 69, 70, 71, 583, 588, 592, 594, 83, 85, 90, 93, 94, 607, 97, 101, 616, 619, 620, 109, 621, 111, 623, 116, 117, 630, 638, 639, 128, 130, 131, 133, 135, 136, 139, 140, 141, 142, 651, 655, 145, 146, 657, 149, 150, 662, 152, 665, 668, 669, 670, 161, 163, 166, 678, 170, 682, 172, 689, 180, 698, 187, 189, 190, 708, 197, 198, 710, 714, 211, 723, 214, 215, 730, 219, 220, 732, 739, 740, 743, 234, 235, 238, 753, 762, 251, 763, 256, 770, 772, 774, 776, 266, 268, 272, 273, 784, 786, 789, 794, 796, 285, 798, 287, 288, 799, 802, 292, 805, 294, 807, 808, 809, 814, 815, 305, 817, 307, 310, 315, 828, 317, 829, 319, 322, 838, 840, 841, 332, 845, 335, 336, 338, 853, 342, 854, 859, 861, 866, 868, 358, 359, 871, 876, 371, 883, 884, 889, 378, 380, 892, 893, 384, 899, 388, 390, 391, 392, 393, 400, 915, 405, 409, 410, 922, 413, 925, 928, 420, 933, 935, 938, 940, 941, 942, 433, 947, 437, 438, 950, 440, 951, 953, 443, 955, 445, 958, 450, 451, 962, 460, 463, 465, 468, 471, 476, 477, 480, 481, 483, 484, 485, 486, 487, 488, 503, 505, 507]\n",
            "-- >> Start of training phase << --\n",
            "-- Starting training on experience 2 (Task 0) from train stream --\n",
            "100%|██████████| 10/10 [00:03<00:00,  2.78it/s]\n",
            "Epoch 0 ended.\n",
            "\tDiskUsage_Epoch/train_phase/train_stream/Task000 = 55558.5420\n",
            "\tDiskUsage_MB/train_phase/train_stream/Task000 = 55558.5420\n",
            "\tLoss_Epoch/train_phase/train_stream/Task000 = 6.9171\n",
            "\tLoss_MB/train_phase/train_stream/Task000 = 6.8963\n",
            "\tRunningTime_Epoch/train_phase/train_stream/Task000 = 0.0378\n",
            "\tTime_Epoch/train_phase/train_stream/Task000 = 3.5995\n",
            "\tTop1_Acc_Epoch/train_phase/train_stream/Task000 = 0.0010\n",
            "\tTop1_Acc_MB/train_phase/train_stream/Task000 = 0.0000\n",
            "-- >> End of training phase << --\n",
            "Training completed\n",
            "Computing accuracy on the whole test set\n",
            "-- >> Start of eval phase << --\n",
            "-- Starting eval on experience 0 (Task 0) from test stream --\n",
            "100%|██████████| 33/33 [00:02<00:00, 12.90it/s]\n",
            "> Eval on experience 0 (Task 0) from test stream ended.\n",
            "\tCPUUsage_Exp/eval_phase/test_stream/Task000/Exp000 = 99.3444\n",
            "\tDiskUsage_Exp/eval_phase/test_stream/Task000/Exp000 = 55563.1270\n",
            "\tExperienceForgetting/eval_phase/test_stream/Task000/Exp000 = 0.0000\n",
            "\tLoss_Exp/eval_phase/test_stream/Task000/Exp000 = 6.8719\n",
            "\tTop1_Acc_Exp/eval_phase/test_stream/Task000/Exp000 = 0.0009\n",
            "-- Starting eval on experience 1 (Task 0) from test stream --\n",
            "100%|██████████| 36/36 [00:02<00:00, 12.88it/s]\n",
            "> Eval on experience 1 (Task 0) from test stream ended.\n",
            "\tCPUUsage_Exp/eval_phase/test_stream/Task000/Exp001 = 98.7210\n",
            "\tDiskUsage_Exp/eval_phase/test_stream/Task000/Exp001 = 55563.5498\n",
            "\tExperienceForgetting/eval_phase/test_stream/Task000/Exp001 = 0.0000\n",
            "\tLoss_Exp/eval_phase/test_stream/Task000/Exp001 = 6.8995\n",
            "\tTop1_Acc_Exp/eval_phase/test_stream/Task000/Exp001 = 0.0000\n",
            "-- Starting eval on experience 2 (Task 0) from test stream --\n",
            "100%|██████████| 33/33 [00:02<00:00, 13.01it/s]\n",
            "> Eval on experience 2 (Task 0) from test stream ended.\n",
            "\tCPUUsage_Exp/eval_phase/test_stream/Task000/Exp002 = 98.5897\n",
            "\tDiskUsage_Exp/eval_phase/test_stream/Task000/Exp002 = 55563.9727\n",
            "\tLoss_Exp/eval_phase/test_stream/Task000/Exp002 = 6.8874\n",
            "\tTop1_Acc_Exp/eval_phase/test_stream/Task000/Exp002 = 0.0018\n",
            "-- Starting eval on experience 3 (Task 0) from test stream --\n",
            "100%|██████████| 30/30 [00:02<00:00, 12.72it/s]\n",
            "> Eval on experience 3 (Task 0) from test stream ended.\n",
            "\tCPUUsage_Exp/eval_phase/test_stream/Task000/Exp003 = 98.3978\n",
            "\tDiskUsage_Exp/eval_phase/test_stream/Task000/Exp003 = 55564.3281\n",
            "\tLoss_Exp/eval_phase/test_stream/Task000/Exp003 = 6.9052\n",
            "\tTop1_Acc_Exp/eval_phase/test_stream/Task000/Exp003 = 0.0010\n",
            "-- >> End of eval phase << --\n",
            "\tConfusionMatrix_Stream/eval_phase/test_stream = \n",
            "tensor([[0, 0, 0,  ..., 0, 0, 0],\n",
            "        [0, 0, 0,  ..., 0, 0, 0],\n",
            "        [0, 0, 0,  ..., 0, 0, 0],\n",
            "        ...,\n",
            "        [0, 0, 0,  ..., 0, 0, 0],\n",
            "        [0, 0, 0,  ..., 0, 0, 0],\n",
            "        [0, 0, 0,  ..., 0, 0, 0]])\n",
            "\tDiskUsage_Stream/eval_phase/test_stream/Task000 = 55564.3281\n",
            "\tLoss_Stream/eval_phase/test_stream/Task000 = 6.8909\n",
            "\tStreamForgetting/eval_phase/test_stream = 0.0000\n",
            "\tTop1_Acc_Stream/eval_phase/test_stream/Task000 = 0.0009\n",
            "Start of experience:  3\n",
            "Current Classes:  [512, 517, 521, 523, 524, 14, 527, 17, 29, 541, 543, 32, 33, 34, 547, 548, 37, 549, 550, 554, 43, 556, 47, 48, 562, 54, 568, 61, 576, 577, 72, 586, 75, 590, 79, 80, 81, 596, 597, 86, 598, 599, 92, 605, 606, 608, 98, 99, 612, 614, 103, 104, 122, 634, 124, 635, 636, 637, 132, 652, 653, 147, 659, 663, 667, 157, 158, 672, 165, 677, 167, 679, 169, 680, 171, 683, 684, 174, 175, 176, 177, 178, 687, 691, 693, 183, 185, 701, 191, 194, 195, 706, 711, 712, 201, 716, 205, 719, 209, 725, 726, 727, 216, 728, 218, 733, 735, 736, 225, 227, 741, 742, 746, 236, 748, 240, 752, 755, 244, 756, 758, 759, 249, 761, 253, 254, 765, 767, 768, 259, 265, 779, 780, 269, 270, 271, 785, 274, 276, 278, 279, 790, 281, 284, 797, 286, 801, 291, 803, 804, 295, 296, 298, 301, 304, 822, 311, 312, 823, 314, 318, 831, 321, 833, 834, 835, 836, 327, 839, 843, 334, 846, 850, 851, 852, 341, 856, 345, 348, 351, 352, 864, 356, 357, 360, 872, 873, 875, 364, 878, 367, 880, 886, 376, 888, 890, 379, 895, 896, 386, 900, 904, 905, 396, 909, 398, 911, 912, 913, 916, 406, 407, 921, 923, 412, 416, 417, 929, 930, 932, 423, 424, 432, 944, 946, 436, 439, 952, 441, 954, 956, 448, 960, 961, 466, 470, 473, 474, 475, 490, 495]\n",
            "-- >> Start of training phase << --\n",
            "-- Starting training on experience 3 (Task 0) from train stream --\n",
            "100%|██████████| 10/10 [00:03<00:00,  2.81it/s]\n",
            "Epoch 0 ended.\n",
            "\tDiskUsage_Epoch/train_phase/train_stream/Task000 = 55573.2314\n",
            "\tDiskUsage_MB/train_phase/train_stream/Task000 = 55573.2314\n",
            "\tLoss_Epoch/train_phase/train_stream/Task000 = 6.9101\n",
            "\tLoss_MB/train_phase/train_stream/Task000 = 6.9088\n",
            "\tRunningTime_Epoch/train_phase/train_stream/Task000 = 0.0382\n",
            "\tTime_Epoch/train_phase/train_stream/Task000 = 3.5647\n",
            "\tTop1_Acc_Epoch/train_phase/train_stream/Task000 = 0.0004\n",
            "\tTop1_Acc_MB/train_phase/train_stream/Task000 = 0.0000\n",
            "-- >> End of training phase << --\n",
            "Training completed\n",
            "Computing accuracy on the whole test set\n",
            "-- >> Start of eval phase << --\n",
            "-- Starting eval on experience 0 (Task 0) from test stream --\n",
            "100%|██████████| 33/33 [00:02<00:00, 12.69it/s]\n",
            "> Eval on experience 0 (Task 0) from test stream ended.\n",
            "\tCPUUsage_Exp/eval_phase/test_stream/Task000/Exp000 = 99.3980\n",
            "\tDiskUsage_Exp/eval_phase/test_stream/Task000/Exp000 = 55573.8164\n",
            "\tExperienceForgetting/eval_phase/test_stream/Task000/Exp000 = 0.0000\n",
            "\tLoss_Exp/eval_phase/test_stream/Task000/Exp000 = 6.8734\n",
            "\tTop1_Acc_Exp/eval_phase/test_stream/Task000/Exp000 = 0.0009\n",
            "-- Starting eval on experience 1 (Task 0) from test stream --\n",
            "100%|██████████| 36/36 [00:02<00:00, 12.86it/s]\n",
            "> Eval on experience 1 (Task 0) from test stream ended.\n",
            "\tCPUUsage_Exp/eval_phase/test_stream/Task000/Exp001 = 99.8006\n",
            "\tDiskUsage_Exp/eval_phase/test_stream/Task000/Exp001 = 55574.2393\n",
            "\tExperienceForgetting/eval_phase/test_stream/Task000/Exp001 = 0.0000\n",
            "\tLoss_Exp/eval_phase/test_stream/Task000/Exp001 = 6.9007\n",
            "\tTop1_Acc_Exp/eval_phase/test_stream/Task000/Exp001 = 0.0000\n",
            "-- Starting eval on experience 2 (Task 0) from test stream --\n",
            "100%|██████████| 33/33 [00:02<00:00, 12.88it/s]\n",
            "> Eval on experience 2 (Task 0) from test stream ended.\n",
            "\tCPUUsage_Exp/eval_phase/test_stream/Task000/Exp002 = 98.7814\n",
            "\tDiskUsage_Exp/eval_phase/test_stream/Task000/Exp002 = 55574.6621\n",
            "\tExperienceForgetting/eval_phase/test_stream/Task000/Exp002 = 0.0000\n",
            "\tLoss_Exp/eval_phase/test_stream/Task000/Exp002 = 6.8886\n",
            "\tTop1_Acc_Exp/eval_phase/test_stream/Task000/Exp002 = 0.0018\n",
            "-- Starting eval on experience 3 (Task 0) from test stream --\n",
            "100%|██████████| 30/30 [00:02<00:00, 12.58it/s]\n",
            "> Eval on experience 3 (Task 0) from test stream ended.\n",
            "\tCPUUsage_Exp/eval_phase/test_stream/Task000/Exp003 = 98.8053\n",
            "\tDiskUsage_Exp/eval_phase/test_stream/Task000/Exp003 = 55579.0850\n",
            "\tLoss_Exp/eval_phase/test_stream/Task000/Exp003 = 6.9004\n",
            "\tTop1_Acc_Exp/eval_phase/test_stream/Task000/Exp003 = 0.0010\n",
            "-- >> End of eval phase << --\n",
            "\tConfusionMatrix_Stream/eval_phase/test_stream = \n",
            "tensor([[0, 0, 0,  ..., 0, 0, 0],\n",
            "        [0, 0, 0,  ..., 0, 0, 0],\n",
            "        [0, 0, 0,  ..., 0, 0, 0],\n",
            "        ...,\n",
            "        [0, 0, 0,  ..., 0, 0, 0],\n",
            "        [0, 0, 0,  ..., 0, 0, 0],\n",
            "        [0, 0, 0,  ..., 0, 0, 0]])\n",
            "\tDiskUsage_Stream/eval_phase/test_stream/Task000 = 55579.0850\n",
            "\tLoss_Stream/eval_phase/test_stream/Task000 = 6.8908\n",
            "\tStreamForgetting/eval_phase/test_stream = 0.0000\n",
            "\tTop1_Acc_Stream/eval_phase/test_stream/Task000 = 0.0009\n"
          ]
        }
      ]
    }
  ]
}